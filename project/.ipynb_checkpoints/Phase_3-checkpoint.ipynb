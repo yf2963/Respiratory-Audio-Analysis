{
 "cells": [
  {
   "cell_type": "markdown",
   "id": "8af9718487f73035",
   "metadata": {},
   "source": [
    "# Phase 2 Notebook"
   ]
  },
  {
   "cell_type": "code",
   "execution_count": null,
   "id": "ba52b56f81e2a1bd",
   "metadata": {},
   "outputs": [],
   "source": [
    "import helperFunctions\n",
    "import warnings\n",
    "warnings.filterwarnings('ignore')\n",
    "import tensorflow.keras.utils as kutil\n",
    "import numpy as np\n",
    "import tensorflow as tf\n",
    "import matplotlib.pyplot as plt\n",
    "import seaborn as sns\n",
    "from sklearn.metrics import confusion_matrix, classification_report\n",
    "from sklearn.preprocessing import LabelEncoder as le"
   ]
  },
  {
   "cell_type": "markdown",
   "id": "289d0ad4c4f7cb0",
   "metadata": {},
   "source": [
    "## Step 1: Data Importing\n",
    "This step creates a dataframe with start, end, (cycle start end) crackles, wheezes, pid, and filename"
   ]
  },
  {
   "cell_type": "code",
   "execution_count": null,
   "id": "41c0bdbbca959303",
   "metadata": {},
   "outputs": [],
   "source": [
    "completeData = helperFunctions.getCompleteData()\n",
    "completeData"
   ]
  },
  {
   "cell_type": "markdown",
   "id": "bcdc4d5d5ad2b1d8",
   "metadata": {},
   "source": [
    "## Step 2: Data Preprocessing\n",
    "This step splits the audio into cycles and updates the dataframe with the new filenames. In order to split up audio, we must choose a standard length for all audio samples, however a sample too large would be difficult to process and a sample too small may eliminate too much data. We chose 6 seconds as a standard length for all audio samples (see figure)."
   ]
  },
  {
   "cell_type": "code",
   "execution_count": null,
   "id": "55cc9cb2677cf28f",
   "metadata": {},
   "outputs": [],
   "source": [
    "helperFunctions.getCycleGraph(completeData, maxLength=6)"
   ]
  },
  {
   "cell_type": "code",
   "execution_count": null,
   "id": "936be6648b25f733",
   "metadata": {},
   "outputs": [],
   "source": [
    "# this will take a long time (~20 minutes)\n",
    "splitData = helperFunctions.getSplitData(completeData, maxLength=6)\n",
    "splitData"
   ]
  },
  {
   "cell_type": "markdown",
   "id": "f2300e48dda4ea55",
   "metadata": {},
   "source": [
    "## Step 3: Data Categorization and Division\n",
    "this step adds categories to each cycle based on the presence of crackles and wheezes. The categories are as follows: none, crackles only, wheezes only, and both crackles and wheezes. The categories are added to the dataframe as a new column. Furthermore, the data is divided into training and testing sets based on each category. As seen in the \"Category Distribution\" figure, the dataset is imbalanced."
   ]
  },
  {
   "cell_type": "code",
   "execution_count": null,
   "id": "494ff7a9cd3c1161",
   "metadata": {},
   "outputs": [],
   "source": [
    "categorizedData = helperFunctions.getCategorizedData(splitData)\n",
    "categorizedData"
   ]
  },
  {
   "cell_type": "code",
   "execution_count": null,
   "id": "ed5576b0c417b9ff",
   "metadata": {},
   "outputs": [],
   "source": [
    "trainData, testData = helperFunctions.getTestTrainSplit(categorizedData, testSize=0.2)\n"
   ]
  },
  {
   "cell_type": "markdown",
   "id": "c6ffe3d2014e378f",
   "metadata": {},
   "source": [
    "## Step 4: Feature Extraction and Modeling\n",
    "This creates CNN and RNN models for three different features, MFCC, STFT, and Mel-Spectrogram which are all ways of compressing audio information. Furthermore, this step creates a dense network, combining all three features into a singular CNN and RNN models."
   ]
  },
  {
   "cell_type": "markdown",
   "id": "1f1ee88df166a0ef",
   "metadata": {},
   "source": [
    "### Step 4.1: Mel-Frequency Cepstral Coefficients (MFCC)"
   ]
  },
  {
   "cell_type": "code",
   "execution_count": null,
   "id": "f5b2552eb9561486",
   "metadata": {},
   "outputs": [],
   "source": [
    "mfccCnnModel, mfccRnnModel, mfccTrain, mfccTest = helperFunctions.getMFCCModel(trainData, testData)"
   ]
  },
  {
   "cell_type": "code",
   "execution_count": null,
   "id": "2da57e0b7576bb7c",
   "metadata": {},
   "outputs": [],
   "source": [
    "helperFunctions.createMFCCPlot(mfccTrain, index=420)"
   ]
  },
  {
   "cell_type": "markdown",
   "source": [
    "#### Step 4.1.1: MFCC CNN Model"
   ],
   "metadata": {
    "collapsed": false
   },
   "id": "8d1e5dbfc9b20b70"
  },
  {
   "cell_type": "code",
   "execution_count": null,
   "id": "3c05854aac8520d8",
   "metadata": {},
   "outputs": [],
   "source": [
    "mfccCnnModel.summary()"
   ]
  },
  {
   "cell_type": "markdown",
   "source": [
    "#### Step 4.1.2: MFCC RNN Model"
   ],
   "metadata": {
    "collapsed": false
   },
   "id": "186109992ca2c53c"
  },
  {
   "cell_type": "code",
   "execution_count": null,
   "outputs": [],
   "source": [
    "mfccRnnModel.summary()"
   ],
   "metadata": {
    "collapsed": false
   },
   "id": "845bbd8fc6ebe617"
  },
  {
   "cell_type": "markdown",
   "source": [
    "### Step 4.2: Short-Time Fourier Transform (STFT)"
   ],
   "metadata": {
    "collapsed": false
   },
   "id": "ddb0312933ce1350"
  },
  {
   "cell_type": "code",
   "execution_count": null,
   "id": "9aee9d3a06dec0c2",
   "metadata": {},
   "outputs": [],
   "source": [
    "stftCnnModel, stftRnnModel, stftTrain, stftTest = helperFunctions.getSTFTModel(trainData, testData)"
   ]
  },
  {
   "cell_type": "code",
   "execution_count": null,
   "id": "429f4dc8b82e2a79",
   "metadata": {},
   "outputs": [],
   "source": [
    "helperFunctions.createSTFTPlot(stftTrain, index=420)"
   ]
  },
  {
   "cell_type": "markdown",
   "source": [
    "#### Step 4.2.1: STFT CNN Model"
   ],
   "metadata": {
    "collapsed": false
   },
   "id": "115c23b52c3e1c8c"
  },
  {
   "cell_type": "code",
   "execution_count": null,
   "id": "4046328e5ab52239",
   "metadata": {},
   "outputs": [],
   "source": [
    "stftCnnModel.summary()"
   ]
  },
  {
   "cell_type": "markdown",
   "source": [
    "#### Step 4.2.2: STFT RNN Model"
   ],
   "metadata": {
    "collapsed": false
   },
   "id": "5558bb1fcb3c8f72"
  },
  {
   "cell_type": "code",
   "execution_count": null,
   "outputs": [],
   "source": [
    "stftRnnModel.summary()"
   ],
   "metadata": {
    "collapsed": false
   },
   "id": "6107834373bf3c61"
  },
  {
   "cell_type": "markdown",
   "id": "478e124a8553e70",
   "metadata": {},
   "source": [
    "### Step 4.3: Mel-Spectrogram"
   ]
  },
  {
   "cell_type": "code",
   "execution_count": null,
   "id": "3de12f555249caa4",
   "metadata": {},
   "outputs": [],
   "source": [
    "melCnnModel, melRnnModel, melTrain, melTest = helperFunctions.getMELModel(trainData, testData)"
   ]
  },
  {
   "cell_type": "code",
   "execution_count": null,
   "outputs": [],
   "source": [
    "helperFunctions.createMELPlot(melTrain, index=420)"
   ],
   "metadata": {
    "collapsed": false
   },
   "id": "a2073b4bf798b483"
  },
  {
   "cell_type": "markdown",
   "source": [
    "#### Step 4.3.1: Mel-Spectrogram CNN Model"
   ],
   "metadata": {
    "collapsed": false
   },
   "id": "2f523feb3095a790"
  },
  {
   "cell_type": "code",
   "execution_count": null,
   "outputs": [],
   "source": [
    "melCnnModel.summary()"
   ],
   "metadata": {
    "collapsed": false
   },
   "id": "1c5f45771e39810c"
  },
  {
   "cell_type": "markdown",
   "source": [
    "#### Step 4.3.2: Mel-Spectrogram RNN Model"
   ],
   "metadata": {
    "collapsed": false
   },
   "id": "6eddfe3170f78f37"
  },
  {
   "cell_type": "code",
   "execution_count": null,
   "outputs": [],
   "source": [
    "melRnnModel.summary()"
   ],
   "metadata": {
    "collapsed": false
   },
   "id": "f970bfe1d61c9d1c"
  },
  {
   "cell_type": "markdown",
   "id": "759b6b5fe917e65",
   "metadata": {},
   "source": [
    "### Step 4.4: Dense Network"
   ]
  },
  {
   "cell_type": "markdown",
   "source": [
    "#### Step 4.4.1: Dense CNN Model"
   ],
   "metadata": {
    "collapsed": false
   },
   "id": "350b1ec5427362ad"
  },
  {
   "cell_type": "code",
   "execution_count": null,
   "id": "50c7a232690e1035",
   "metadata": {},
   "outputs": [],
   "source": [
    "denseCnnModel = helperFunctions.getDenseModel(mfccCnnModel, stftCnnModel, melCnnModel)"
   ]
  },
  {
   "cell_type": "code",
   "execution_count": null,
   "outputs": [],
   "source": [
    "denseCnnModel.summary()"
   ],
   "metadata": {
    "collapsed": false
   },
   "id": "f476175eec74819c"
  },
  {
   "cell_type": "markdown",
   "source": [
    "#### Step 4.4.2: Dense RNN Model"
   ],
   "metadata": {
    "collapsed": false
   },
   "id": "aff8bc887f878524"
  },
  {
   "cell_type": "code",
   "execution_count": null,
   "outputs": [],
   "source": [
    "denseRnnModel = helperFunctions.getDenseModel(mfccRnnModel, stftRnnModel, melRnnModel)"
   ],
   "metadata": {
    "collapsed": false
   },
   "id": "888b88ee1e34aed"
  },
  {
   "cell_type": "code",
   "execution_count": null,
   "outputs": [],
   "source": [
    "denseRnnModel.summary()"
   ],
   "metadata": {
    "collapsed": false
   },
   "id": "4bd101086937159a"
  },
  {
   "cell_type": "markdown",
   "source": [
    "#### Step 4.4.3: Dense Combined Model"
   ],
   "metadata": {
    "collapsed": false
   },
   "id": "d97383db15ecfe4e"
  },
  {
   "cell_type": "code",
   "execution_count": null,
   "outputs": [],
   "source": [
    "denseCombinedModel = helperFunctions.getDenseModel2(mfccCnnModel, stftCnnModel, melCnnModel, mfccRnnModel, stftRnnModel, melRnnModel)"
   ],
   "metadata": {
    "collapsed": false
   },
   "id": "b8da6e9a6e617f07"
  },
  {
   "cell_type": "code",
   "execution_count": null,
   "outputs": [],
   "source": [
    "denseCombinedModel.summary()"
   ],
   "metadata": {
    "collapsed": false
   },
   "id": "daa1a73eaf290025"
  },
  {
   "cell_type": "markdown",
   "id": "eba7ef1154658302",
   "metadata": {},
   "source": [
    "## Step 5: Data Training\n",
    "This step uses the models created in step 4 and trains them on the training data. The training data is then tested on the testing data and the results are plotted. Figures showing the accuracy and loss of each model are shown below."
   ]
  },
  {
   "cell_type": "code",
   "execution_count": null,
   "id": "9d5cf197c8627d7c",
   "metadata": {},
   "outputs": [],
   "source": [
    "dtr, dte = helperFunctions.encode(trainData.category, testData.category)"
   ]
  },
  {
   "cell_type": "markdown",
   "id": "13bd840670365453",
   "metadata": {},
   "source": [
    "### Step 5.1: MFCC"
   ]
  },
  {
   "cell_type": "markdown",
   "source": [
    "#### Step 5.1.1: MFCC CNN"
   ],
   "metadata": {
    "collapsed": false
   },
   "id": "b8435c55a6c9f807"
  },
  {
   "cell_type": "code",
   "execution_count": null,
   "id": "47c69a423fe49db8",
   "metadata": {},
   "outputs": [],
   "source": [
    "mfccCnnModel, mfccCnnHistory = helperFunctions.trainModel(mfccCnnModel, dtr, dte, mfccTrain, mfccTest)"
   ]
  },
  {
   "cell_type": "code",
   "execution_count": null,
   "id": "9c906c2b2c99fc7c",
   "metadata": {},
   "outputs": [],
   "source": [
    "helperFunctions.plotModel(mfccCnnHistory)"
   ]
  },
  {
   "cell_type": "code",
   "execution_count": null,
   "id": "810b5ab4754923cb",
   "metadata": {},
   "outputs": [],
   "source": [
    "mfccCnnModel.evaluate(mfccTest, dte)"
   ]
  },
  {
   "cell_type": "markdown",
   "source": [
    "#### Step 5.1.2: MFCC RNN"
   ],
   "metadata": {
    "collapsed": false
   },
   "id": "9ec9cf6a20c78a74"
  },
  {
   "cell_type": "code",
   "execution_count": null,
   "outputs": [],
   "source": [
    "mfccRnnModel, mfccRnnHistory = helperFunctions.trainModel(mfccRnnModel, dtr, dte, mfccTrain, mfccTest)"
   ],
   "metadata": {
    "collapsed": false
   },
   "id": "47a33fe0068d5315"
  },
  {
   "cell_type": "code",
   "execution_count": null,
   "outputs": [],
   "source": [
    "helperFunctions.plotModel(mfccRnnHistory)"
   ],
   "metadata": {
    "collapsed": false
   },
   "id": "f03185f68d4c2c98"
  },
  {
   "cell_type": "code",
   "execution_count": null,
   "outputs": [],
   "source": [
    "mfccRnnModel.evaluate(mfccTest, dte)"
   ],
   "metadata": {
    "collapsed": false
   },
   "id": "e981353b5ca8de23"
  },
  {
   "cell_type": "markdown",
   "id": "fc563f4525a5a72e",
   "metadata": {},
   "source": [
    "### Step 5.2: STFT"
   ]
  },
  {
   "cell_type": "markdown",
   "source": [
    "#### Step 5.2.1: STFT CNN"
   ],
   "metadata": {
    "collapsed": false
   },
   "id": "ed2795e222953065"
  },
  {
   "cell_type": "code",
   "execution_count": null,
   "id": "3f240fc027735a11",
   "metadata": {},
   "outputs": [],
   "source": [
    "stftCnnModel, stftCnnHistory = helperFunctions.trainModel(stftCnnModel, dtr, dte, stftTrain, stftTest)"
   ]
  },
  {
   "cell_type": "code",
   "execution_count": null,
   "id": "82024a356ac97b9c",
   "metadata": {},
   "outputs": [],
   "source": [
    "helperFunctions.plotModel(stftCnnHistory)"
   ]
  },
  {
   "cell_type": "code",
   "execution_count": null,
   "id": "df3854c3a63813f6",
   "metadata": {},
   "outputs": [],
   "source": [
    "stftCnnModel.evaluate(stftTest, dte)"
   ]
  },
  {
   "cell_type": "markdown",
   "source": [
    "#### Step 5.2.2: STFT RNN"
   ],
   "metadata": {
    "collapsed": false
   },
   "id": "9bf6a40243c19807"
  },
  {
   "cell_type": "code",
   "execution_count": null,
   "outputs": [],
   "source": [
    "stftRnnModel, stftRnnHistory = helperFunctions.trainModel(stftRnnModel, dtr, dte, stftTrain, stftTest)"
   ],
   "metadata": {
    "collapsed": false
   },
   "id": "640f173e5ade8c9d"
  },
  {
   "cell_type": "code",
   "execution_count": null,
   "outputs": [],
   "source": [
    "helperFunctions.plotModel(stftRnnHistory)"
   ],
   "metadata": {
    "collapsed": false
   },
   "id": "a694b353a4b2f2d2"
  },
  {
   "cell_type": "code",
   "execution_count": null,
   "outputs": [],
   "source": [
    "stftRnnModel.evaluate(stftTest, dte)"
   ],
   "metadata": {
    "collapsed": false
   },
   "id": "46e97600b1c7e6b6"
  },
  {
   "cell_type": "markdown",
   "id": "809a0b50c0eae38b",
   "metadata": {},
   "source": [
    "### Step 5.3: Mel"
   ]
  },
  {
   "cell_type": "markdown",
   "source": [
    "#### Step 5.3.1: Mel-Spectrogram CNN"
   ],
   "metadata": {
    "collapsed": false
   },
   "id": "7c7b7a1598bab30c"
  },
  {
   "cell_type": "code",
   "execution_count": null,
   "id": "e27697be32c21fac",
   "metadata": {},
   "outputs": [],
   "source": [
    "melCnnModel, melCnnHistory = helperFunctions.trainModel(melCnnModel, dtr, dte, melTrain, melTest)"
   ]
  },
  {
   "cell_type": "code",
   "execution_count": null,
   "id": "cc63af497b56729c",
   "metadata": {},
   "outputs": [],
   "source": [
    "helperFunctions.plotModel(melCnnHistory)"
   ]
  },
  {
   "cell_type": "code",
   "execution_count": null,
   "id": "e2277c61da607d38",
   "metadata": {},
   "outputs": [],
   "source": [
    "melCnnModel.evaluate(melTest, dte)"
   ]
  },
  {
   "cell_type": "markdown",
   "source": [
    "#### Step 5.3.2: Mel-Spectrogram RNN"
   ],
   "metadata": {
    "collapsed": false
   },
   "id": "69a1c955ac244a51"
  },
  {
   "cell_type": "code",
   "execution_count": null,
   "outputs": [],
   "source": [
    "melRnnModel, melRnnHistory = helperFunctions.trainModel(melRnnModel, dtr, dte, melTrain, melTest)"
   ],
   "metadata": {
    "collapsed": false
   },
   "id": "407fcba7a55f5b71"
  },
  {
   "cell_type": "code",
   "execution_count": null,
   "outputs": [],
   "source": [
    "helperFunctions.plotModel(melRnnHistory)"
   ],
   "metadata": {
    "collapsed": false
   },
   "id": "e84d15d38bf540ef"
  },
  {
   "cell_type": "code",
   "execution_count": null,
   "outputs": [],
   "source": [
    "melRnnModel.evaluate(melTest, dte)"
   ],
   "metadata": {
    "collapsed": false
   },
   "id": "5e2fcf3b5c989c49"
  },
  {
   "cell_type": "markdown",
   "id": "3d19c609b5466014",
   "metadata": {},
   "source": [
    "### Step 5.4: Dense"
   ]
  },
  {
   "cell_type": "markdown",
   "source": [
    "#### Step 5.4.1: Dense CNN"
   ],
   "metadata": {
    "collapsed": false
   },
   "id": "3f18f8070bddf8c7"
  },
  {
   "cell_type": "code",
   "execution_count": null,
   "id": "53168c8d12b118e",
   "metadata": {},
   "outputs": [],
   "source": [
    "denseCnnModel, denseCnnHistory = helperFunctions.trainModel(denseCnnModel, dtr, dte, [mfccTrain, stftTrain, melTrain], [mfccTest, stftTest, melTest])"
   ]
  },
  {
   "cell_type": "code",
   "execution_count": null,
   "id": "fdeb177ed8bf94a6",
   "metadata": {},
   "outputs": [],
   "source": [
    "helperFunctions.plotModel(denseCnnHistory)"
   ]
  },
  {
   "cell_type": "code",
   "execution_count": null,
   "id": "fdf16f58089c225",
   "metadata": {},
   "outputs": [],
   "source": [
    "denseCnnModel.evaluate([mfccTest, stftTest, melTest], dte)"
   ]
  },
  {
   "cell_type": "code",
   "execution_count": null,
   "outputs": [],
   "source": [
    "helperFunctions.plotClassificationAndConfusion(denseCnnModel, [mfccTest, stftTest, melTest], dte)"
   ],
   "metadata": {
    "collapsed": false
   },
   "id": "c542ca5a5089577c"
  },
  {
   "cell_type": "markdown",
   "source": [
    "#### Step 5.4.2: Dense RNN"
   ],
   "metadata": {
    "collapsed": false
   },
   "id": "2e0444da4dd635c8"
  },
  {
   "cell_type": "code",
   "execution_count": null,
   "outputs": [],
   "source": [
    "denseRnnModel, denseRnnHistory = helperFunctions.trainModel(denseRnnModel, dtr, dte, [mfccTrain, stftTrain, melTrain], [mfccTest, stftTest, melTest])"
   ],
   "metadata": {
    "collapsed": false
   },
   "id": "cbfa531227b77966"
  },
  {
   "cell_type": "code",
   "execution_count": null,
   "outputs": [],
   "source": [
    "helperFunctions.plotModel(denseRnnHistory)"
   ],
   "metadata": {
    "collapsed": false
   },
   "id": "2b86282be2cc2148"
  },
  {
   "cell_type": "code",
   "execution_count": null,
   "outputs": [],
   "source": [
    "denseRnnModel.evaluate([mfccTest, stftTest, melTest], dte)"
   ],
   "metadata": {
    "collapsed": false
   },
   "id": "797aa88191412515"
  },
  {
   "cell_type": "code",
   "execution_count": null,
   "outputs": [],
   "source": [
    "helperFunctions.plotClassificationAndConfusion(denseRnnModel, [mfccTest, stftTest, melTest], dte)"
   ],
   "metadata": {
    "collapsed": false
   },
   "id": "9deecb9682e84b14"
  },
  {
   "cell_type": "markdown",
   "source": [
    "#### Step 5.4.3: Dense Combined"
   ],
   "metadata": {
    "collapsed": false
   },
   "id": "4089ff2948af0ed"
  },
  {
   "cell_type": "code",
   "execution_count": null,
   "outputs": [],
   "source": [
    "denseCombinedModel, denseCombinedHistory = helperFunctions.trainModel(denseCombinedModel, dtr, dte, [mfccTrain, stftTrain, melTrain, mfccTrain, stftTrain, melTrain], [mfccTest, stftTest, melTest, mfccTest, stftTest, melTest])"
   ],
   "metadata": {
    "collapsed": false
   },
   "id": "6212c5ed5d31d82d"
  },
  {
   "cell_type": "code",
   "execution_count": null,
   "outputs": [],
   "source": [
    "helperFunctions.plotModel(denseCombinedHistory)"
   ],
   "metadata": {
    "collapsed": false
   },
   "id": "4ae8c2363506eda7"
  },
  {
   "cell_type": "code",
   "execution_count": null,
   "outputs": [],
   "source": [
    "denseCombinedModel.evaluate([mfccTest, stftTest, melTest, mfccTest, stftTest, melTest], dte)"
   ],
   "metadata": {
    "collapsed": false
   },
   "id": "c015bafae04b6362"
  },
  {
   "cell_type": "code",
   "execution_count": null,
   "outputs": [],
   "source": [
    "helperFunctions.plotClassificationAndConfusion(denseCombinedModel, [mfccTest, stftTest, melTest, mfccTest, stftTest, melTest], dte)"
   ],
   "metadata": {
    "collapsed": false
   },
   "id": "a49881c5d578b228"
  }
 ],
 "metadata": {
  "kernelspec": {
   "display_name": "Python 3 (ipykernel)",
   "language": "python",
   "name": "python3"
  },
  "language_info": {
   "codemirror_mode": {
    "name": "ipython",
    "version": 3
   },
   "file_extension": ".py",
   "mimetype": "text/x-python",
   "name": "python",
   "nbconvert_exporter": "python",
   "pygments_lexer": "ipython3",
   "version": "3.11.0"
  }
 },
 "nbformat": 4,
 "nbformat_minor": 5
}
